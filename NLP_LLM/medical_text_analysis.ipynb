{
 "cells": [
  {
   "cell_type": "markdown",
   "metadata": {},
   "source": [
    "# Medical Conversation Analysis\n",
    "\n",
    "This notebook analyzes medical conversations to predict diseases and highlight relevant words using Spacy and deep learning."
   ],
   "id": "b4b40984dd26c861"
  },
  {
   "metadata": {
    "ExecuteTime": {
     "end_time": "2024-12-09T21:24:40.123296Z",
     "start_time": "2024-12-09T21:24:34.559206Z"
    }
   },
   "cell_type": "code",
   "source": [
    "# Import required libraries\n",
    "import pandas as pd\n",
    "import spacy\n",
    "import torch\n",
    "import torch.nn as nn\n",
    "from torch.utils.data import Dataset, DataLoader\n",
    "from sklearn.model_selection import train_test_split\n",
    "from sklearn.preprocessing import LabelEncoder\n",
    "import numpy as np\n",
    "import matplotlib.pyplot as plt\n",
    "import seaborn as sns\n",
    "from IPython.display import HTML, display\n",
    "\n",
    "# Download spacy model\n",
    "!python -m spacy download en_core_web_sm"
   ],
   "id": "8c42d7461ab215c4",
   "outputs": [
    {
     "name": "stdout",
     "output_type": "stream",
     "text": [
      "Collecting en-core-web-sm==3.7.1\r\n",
      "  Downloading https://github.com/explosion/spacy-models/releases/download/en_core_web_sm-3.7.1/en_core_web_sm-3.7.1-py3-none-any.whl (12.8 MB)\r\n",
      "\u001B[2K     \u001B[90m━━━━━━━━━━━━━━━━━━━━━━━━━━━━━━━━━━━━━━━━\u001B[0m \u001B[32m12.8/12.8 MB\u001B[0m \u001B[31m6.3 MB/s\u001B[0m eta \u001B[36m0:00:00\u001B[0ma \u001B[36m0:00:01\u001B[0m\r\n",
      "\u001B[?25hRequirement already satisfied: spacy<3.8.0,>=3.7.2 in /Users/cheuktingho/miniconda3/lib/python3.12/site-packages (from en-core-web-sm==3.7.1) (3.7.2)\r\n",
      "Requirement already satisfied: spacy-legacy<3.1.0,>=3.0.11 in /Users/cheuktingho/miniconda3/lib/python3.12/site-packages (from spacy<3.8.0,>=3.7.2->en-core-web-sm==3.7.1) (3.0.12)\r\n",
      "Requirement already satisfied: spacy-loggers<2.0.0,>=1.0.0 in /Users/cheuktingho/miniconda3/lib/python3.12/site-packages (from spacy<3.8.0,>=3.7.2->en-core-web-sm==3.7.1) (1.0.4)\r\n",
      "Requirement already satisfied: murmurhash<1.1.0,>=0.28.0 in /Users/cheuktingho/miniconda3/lib/python3.12/site-packages (from spacy<3.8.0,>=3.7.2->en-core-web-sm==3.7.1) (1.0.7)\r\n",
      "Requirement already satisfied: cymem<2.1.0,>=2.0.2 in /Users/cheuktingho/miniconda3/lib/python3.12/site-packages (from spacy<3.8.0,>=3.7.2->en-core-web-sm==3.7.1) (2.0.6)\r\n",
      "Requirement already satisfied: preshed<3.1.0,>=3.0.2 in /Users/cheuktingho/miniconda3/lib/python3.12/site-packages (from spacy<3.8.0,>=3.7.2->en-core-web-sm==3.7.1) (3.0.6)\r\n",
      "Requirement already satisfied: thinc<8.3.0,>=8.1.8 in /Users/cheuktingho/miniconda3/lib/python3.12/site-packages (from spacy<3.8.0,>=3.7.2->en-core-web-sm==3.7.1) (8.2.2)\r\n",
      "Requirement already satisfied: wasabi<1.2.0,>=0.9.1 in /Users/cheuktingho/miniconda3/lib/python3.12/site-packages (from spacy<3.8.0,>=3.7.2->en-core-web-sm==3.7.1) (0.9.1)\r\n",
      "Requirement already satisfied: srsly<3.0.0,>=2.4.3 in /Users/cheuktingho/miniconda3/lib/python3.12/site-packages (from spacy<3.8.0,>=3.7.2->en-core-web-sm==3.7.1) (2.4.8)\r\n",
      "Requirement already satisfied: catalogue<2.1.0,>=2.0.6 in /Users/cheuktingho/miniconda3/lib/python3.12/site-packages (from spacy<3.8.0,>=3.7.2->en-core-web-sm==3.7.1) (2.0.10)\r\n",
      "Requirement already satisfied: weasel<0.4.0,>=0.1.0 in /Users/cheuktingho/miniconda3/lib/python3.12/site-packages (from spacy<3.8.0,>=3.7.2->en-core-web-sm==3.7.1) (0.3.4)\r\n",
      "Requirement already satisfied: typer<0.10.0,>=0.3.0 in /Users/cheuktingho/miniconda3/lib/python3.12/site-packages (from spacy<3.8.0,>=3.7.2->en-core-web-sm==3.7.1) (0.9.0)\r\n",
      "Requirement already satisfied: smart-open<7.0.0,>=5.2.1 in /Users/cheuktingho/miniconda3/lib/python3.12/site-packages (from spacy<3.8.0,>=3.7.2->en-core-web-sm==3.7.1) (5.2.1)\r\n",
      "Requirement already satisfied: tqdm<5.0.0,>=4.38.0 in /Users/cheuktingho/miniconda3/lib/python3.12/site-packages (from spacy<3.8.0,>=3.7.2->en-core-web-sm==3.7.1) (4.66.4)\r\n",
      "Requirement already satisfied: requests<3.0.0,>=2.13.0 in /Users/cheuktingho/miniconda3/lib/python3.12/site-packages (from spacy<3.8.0,>=3.7.2->en-core-web-sm==3.7.1) (2.32.3)\r\n",
      "Requirement already satisfied: pydantic!=1.8,!=1.8.1,<3.0.0,>=1.7.4 in /Users/cheuktingho/miniconda3/lib/python3.12/site-packages (from spacy<3.8.0,>=3.7.2->en-core-web-sm==3.7.1) (2.8.2)\r\n",
      "Requirement already satisfied: jinja2 in /Users/cheuktingho/miniconda3/lib/python3.12/site-packages (from spacy<3.8.0,>=3.7.2->en-core-web-sm==3.7.1) (3.1.4)\r\n",
      "Requirement already satisfied: setuptools in /Users/cheuktingho/miniconda3/lib/python3.12/site-packages (from spacy<3.8.0,>=3.7.2->en-core-web-sm==3.7.1) (72.1.0)\r\n",
      "Requirement already satisfied: packaging>=20.0 in /Users/cheuktingho/miniconda3/lib/python3.12/site-packages (from spacy<3.8.0,>=3.7.2->en-core-web-sm==3.7.1) (24.1)\r\n",
      "Requirement already satisfied: langcodes<4.0.0,>=3.2.0 in /Users/cheuktingho/miniconda3/lib/python3.12/site-packages (from spacy<3.8.0,>=3.7.2->en-core-web-sm==3.7.1) (3.3.0)\r\n",
      "Requirement already satisfied: numpy>=1.19.0 in /Users/cheuktingho/miniconda3/lib/python3.12/site-packages (from spacy<3.8.0,>=3.7.2->en-core-web-sm==3.7.1) (1.26.4)\r\n",
      "Requirement already satisfied: annotated-types>=0.4.0 in /Users/cheuktingho/miniconda3/lib/python3.12/site-packages (from pydantic!=1.8,!=1.8.1,<3.0.0,>=1.7.4->spacy<3.8.0,>=3.7.2->en-core-web-sm==3.7.1) (0.6.0)\r\n",
      "Requirement already satisfied: pydantic-core==2.20.1 in /Users/cheuktingho/miniconda3/lib/python3.12/site-packages (from pydantic!=1.8,!=1.8.1,<3.0.0,>=1.7.4->spacy<3.8.0,>=3.7.2->en-core-web-sm==3.7.1) (2.20.1)\r\n",
      "Requirement already satisfied: typing-extensions>=4.6.1 in /Users/cheuktingho/miniconda3/lib/python3.12/site-packages (from pydantic!=1.8,!=1.8.1,<3.0.0,>=1.7.4->spacy<3.8.0,>=3.7.2->en-core-web-sm==3.7.1) (4.11.0)\r\n",
      "Requirement already satisfied: charset-normalizer<4,>=2 in /Users/cheuktingho/miniconda3/lib/python3.12/site-packages (from requests<3.0.0,>=2.13.0->spacy<3.8.0,>=3.7.2->en-core-web-sm==3.7.1) (3.3.2)\r\n",
      "Requirement already satisfied: idna<4,>=2.5 in /Users/cheuktingho/miniconda3/lib/python3.12/site-packages (from requests<3.0.0,>=2.13.0->spacy<3.8.0,>=3.7.2->en-core-web-sm==3.7.1) (3.7)\r\n",
      "Requirement already satisfied: urllib3<3,>=1.21.1 in /Users/cheuktingho/miniconda3/lib/python3.12/site-packages (from requests<3.0.0,>=2.13.0->spacy<3.8.0,>=3.7.2->en-core-web-sm==3.7.1) (2.2.3)\r\n",
      "Requirement already satisfied: certifi>=2017.4.17 in /Users/cheuktingho/miniconda3/lib/python3.12/site-packages (from requests<3.0.0,>=2.13.0->spacy<3.8.0,>=3.7.2->en-core-web-sm==3.7.1) (2024.8.30)\r\n",
      "Requirement already satisfied: blis<0.8.0,>=0.7.8 in /Users/cheuktingho/miniconda3/lib/python3.12/site-packages (from thinc<8.3.0,>=8.1.8->spacy<3.8.0,>=3.7.2->en-core-web-sm==3.7.1) (0.7.11)\r\n",
      "Requirement already satisfied: confection<1.0.0,>=0.0.1 in /Users/cheuktingho/miniconda3/lib/python3.12/site-packages (from thinc<8.3.0,>=8.1.8->spacy<3.8.0,>=3.7.2->en-core-web-sm==3.7.1) (0.1.4)\r\n",
      "Requirement already satisfied: click<9.0.0,>=7.1.1 in /Users/cheuktingho/miniconda3/lib/python3.12/site-packages (from typer<0.10.0,>=0.3.0->spacy<3.8.0,>=3.7.2->en-core-web-sm==3.7.1) (8.1.7)\r\n",
      "Requirement already satisfied: cloudpathlib<0.17.0,>=0.7.0 in /Users/cheuktingho/miniconda3/lib/python3.12/site-packages (from weasel<0.4.0,>=0.1.0->spacy<3.8.0,>=3.7.2->en-core-web-sm==3.7.1) (0.16.0)\r\n",
      "Requirement already satisfied: MarkupSafe>=2.0 in /Users/cheuktingho/miniconda3/lib/python3.12/site-packages (from jinja2->spacy<3.8.0,>=3.7.2->en-core-web-sm==3.7.1) (2.1.3)\r\n",
      "\u001B[38;5;2m✔ Download and installation successful\u001B[0m\r\n",
      "You can now load the package via spacy.load('en_core_web_sm')\r\n"
     ]
    }
   ],
   "execution_count": 1
  },
  {
   "metadata": {
    "ExecuteTime": {
     "end_time": "2024-12-09T21:24:40.138686Z",
     "start_time": "2024-12-09T21:24:40.127027Z"
    }
   },
   "cell_type": "code",
   "source": [
    "# Load and preprocess the data\n",
    "df = pd.read_csv('data/medical_conversations.csv')\n",
    "print(f\"Dataset shape: {df.shape}\")\n",
    "print(\"\\nSample conversations:\")\n",
    "display(df.head())"
   ],
   "id": "e01699c8ea133005",
   "outputs": [
    {
     "name": "stdout",
     "output_type": "stream",
     "text": [
      "Dataset shape: (960, 2)\n",
      "\n",
      "Sample conversations:\n"
     ]
    },
    {
     "data": {
      "text/plain": [
       "                                       conversations  disease\n",
       "0  User: I’ve been sneezing a lot today and my no...  allergy\n",
       "1  User: I’ve developed a rash after eating some ...  allergy\n",
       "2  User: My eyes are swollen and itchy, and I can...  allergy\n",
       "3  User: I’ve been getting headaches and a stuffy...  allergy\n",
       "4  User: Every time I eat nuts, my mouth itches. ...  allergy"
      ],
      "text/html": [
       "<div>\n",
       "<style scoped>\n",
       "    .dataframe tbody tr th:only-of-type {\n",
       "        vertical-align: middle;\n",
       "    }\n",
       "\n",
       "    .dataframe tbody tr th {\n",
       "        vertical-align: top;\n",
       "    }\n",
       "\n",
       "    .dataframe thead th {\n",
       "        text-align: right;\n",
       "    }\n",
       "</style>\n",
       "<table border=\"1\" class=\"dataframe\">\n",
       "  <thead>\n",
       "    <tr style=\"text-align: right;\">\n",
       "      <th></th>\n",
       "      <th>conversations</th>\n",
       "      <th>disease</th>\n",
       "    </tr>\n",
       "  </thead>\n",
       "  <tbody>\n",
       "    <tr>\n",
       "      <th>0</th>\n",
       "      <td>User: I’ve been sneezing a lot today and my no...</td>\n",
       "      <td>allergy</td>\n",
       "    </tr>\n",
       "    <tr>\n",
       "      <th>1</th>\n",
       "      <td>User: I’ve developed a rash after eating some ...</td>\n",
       "      <td>allergy</td>\n",
       "    </tr>\n",
       "    <tr>\n",
       "      <th>2</th>\n",
       "      <td>User: My eyes are swollen and itchy, and I can...</td>\n",
       "      <td>allergy</td>\n",
       "    </tr>\n",
       "    <tr>\n",
       "      <th>3</th>\n",
       "      <td>User: I’ve been getting headaches and a stuffy...</td>\n",
       "      <td>allergy</td>\n",
       "    </tr>\n",
       "    <tr>\n",
       "      <th>4</th>\n",
       "      <td>User: Every time I eat nuts, my mouth itches. ...</td>\n",
       "      <td>allergy</td>\n",
       "    </tr>\n",
       "  </tbody>\n",
       "</table>\n",
       "</div>"
      ]
     },
     "metadata": {},
     "output_type": "display_data"
    }
   ],
   "execution_count": 2
  },
  {
   "metadata": {
    "ExecuteTime": {
     "end_time": "2024-12-09T21:24:44.482406Z",
     "start_time": "2024-12-09T21:24:40.174609Z"
    }
   },
   "cell_type": "code",
   "source": [
    "# Load spaCy model\n",
    "nlp = spacy.load('en_core_web_sm')\n",
    "\n",
    "def remove_bot_responses(text):\n",
    "    # Split the conversation into turns\n",
    "    turns = text.split('</s>')\n",
    "    # Keep only user turns (they start with \"User:\") and remove the \"User:\" prefix\n",
    "    user_turns = [turn.strip()[5:].strip() for turn in turns if turn.strip().startswith('User:')]\n",
    "    # Join the user turns back together\n",
    "    return ' </s> '.join(user_turns)\n",
    "\n",
    "# Preprocess text\n",
    "def preprocess_text(text):\n",
    "    # First remove bot responses\n",
    "    text = remove_bot_responses(text)\n",
    "    # Remove HTML-like tags (including </s> tags)\n",
    "    import re\n",
    "    text = re.sub(r'<[^>]+>', ' ', text)\n",
    "\n",
    "    doc = nlp(text)\n",
    "    # Remove stopwords and punctuation, convert to lowercase\n",
    "    tokens = [token.text.lower() for token in doc if not token.is_stop and not token.is_punct]\n",
    "    return ' '.join(tokens)\n",
    "\n",
    "# Apply preprocessing\n",
    "df['processed_text'] = df['conversations'].apply(preprocess_text)\n",
    "\n",
    "# Encode labels\n",
    "label_encoder = LabelEncoder()\n",
    "df['disease_encoded'] = label_encoder.fit_transform(df['disease'])"
   ],
   "id": "aac14ffe5a659c06",
   "outputs": [],
   "execution_count": 3
  },
  {
   "metadata": {
    "ExecuteTime": {
     "end_time": "2024-12-09T21:24:44.490755Z",
     "start_time": "2024-12-09T21:24:44.487972Z"
    }
   },
   "cell_type": "code",
   "source": [
    "# Create vocabulary and word embeddings\n",
    "class Vocabulary:\n",
    "    def __init__(self, texts):\n",
    "        self.word2idx = {'<PAD>': 0}\n",
    "        self.idx2word = {0: '<PAD>'}\n",
    "        self.build_vocab(texts)\n",
    "\n",
    "    def build_vocab(self, texts):\n",
    "        idx = 1\n",
    "        for text in texts:\n",
    "            for word in text.split():\n",
    "                if word not in self.word2idx:\n",
    "                    self.word2idx[word] = idx\n",
    "                    self.idx2word[idx] = word\n",
    "                    idx += 1\n",
    "\n",
    "    def __len__(self):\n",
    "        return len(self.word2idx)\n",
    "\n",
    "# Create vocabulary\n",
    "vocab = Vocabulary(df['processed_text'])\n",
    "print(f\"Vocabulary size: {len(vocab)}\")"
   ],
   "id": "585ad14590916723",
   "outputs": [
    {
     "name": "stdout",
     "output_type": "stream",
     "text": [
      "Vocabulary size: 1294\n"
     ]
    }
   ],
   "execution_count": 4
  },
  {
   "metadata": {
    "ExecuteTime": {
     "end_time": "2024-12-09T21:24:44.499654Z",
     "start_time": "2024-12-09T21:24:44.496074Z"
    }
   },
   "cell_type": "code",
   "source": [
    "# Create dataset class\n",
    "class MedicalDataset(Dataset):\n",
    "    def __init__(self, texts, labels, vocab, max_length=100):\n",
    "        self.texts = texts\n",
    "        self.labels = labels\n",
    "        self.vocab = vocab\n",
    "        self.max_length = max_length\n",
    "\n",
    "    def __len__(self):\n",
    "        return len(self.texts)\n",
    "\n",
    "    def __getitem__(self, idx):\n",
    "        text = self.texts[idx].split()\n",
    "        # Convert words to indices and pad\n",
    "        indices = [self.vocab.word2idx.get(word, 0) for word in text[:self.max_length]]\n",
    "        indices = indices + [0] * (self.max_length - len(indices))\n",
    "        return torch.tensor(indices), torch.tensor(self.labels[idx])\n",
    "\n",
    "# Split data\n",
    "X_train, X_test, y_train, y_test = train_test_split(\n",
    "    df['processed_text'], df['disease_encoded'], test_size=0.2, random_state=42\n",
    ")\n",
    "\n",
    "# Create datasets\n",
    "train_dataset = MedicalDataset(X_train.values, y_train.values, vocab)\n",
    "test_dataset = MedicalDataset(X_test.values, y_test.values, vocab)"
   ],
   "id": "e285739049ae1a0",
   "outputs": [],
   "execution_count": 5
  },
  {
   "metadata": {
    "ExecuteTime": {
     "end_time": "2024-12-09T21:24:44.929035Z",
     "start_time": "2024-12-09T21:24:44.504424Z"
    }
   },
   "cell_type": "code",
   "source": [
    "# Define the model\n",
    "class TextClassifier(nn.Module):\n",
    "    def __init__(self, vocab_size, embedding_dim, hidden_dim, output_dim):\n",
    "        super().__init__()\n",
    "        self.embedding = nn.Embedding(vocab_size, embedding_dim)\n",
    "        self.lstm = nn.LSTM(embedding_dim, hidden_dim, batch_first=True)\n",
    "        self.fc = nn.Linear(hidden_dim, output_dim)\n",
    "        self.attention = nn.Linear(hidden_dim, 1)\n",
    "\n",
    "    def forward(self, text):\n",
    "        embedded = self.embedding(text)\n",
    "        lstm_out, _ = self.lstm(embedded)\n",
    "\n",
    "        # Calculate attention weights\n",
    "        attention_weights = torch.softmax(self.attention(lstm_out), dim=1)\n",
    "        self.last_attention_weights = attention_weights  # Store for later visualization\n",
    "\n",
    "        # Apply attention\n",
    "        attended = torch.sum(attention_weights * lstm_out, dim=1)\n",
    "        return self.fc(attended)\n",
    "\n",
    "# Initialize model\n",
    "EMBEDDING_DIM = 100\n",
    "HIDDEN_DIM = 64\n",
    "OUTPUT_DIM = len(label_encoder.classes_)\n",
    "\n",
    "model = TextClassifier(len(vocab), EMBEDDING_DIM, HIDDEN_DIM, OUTPUT_DIM)\n",
    "criterion = nn.CrossEntropyLoss()\n",
    "optimizer = torch.optim.Adam(model.parameters())"
   ],
   "id": "83c1600d514c3eea",
   "outputs": [],
   "execution_count": 6
  },
  {
   "metadata": {
    "ExecuteTime": {
     "end_time": "2024-12-09T21:24:47.720866Z",
     "start_time": "2024-12-09T21:24:44.933597Z"
    }
   },
   "cell_type": "code",
   "source": [
    "# Training loop\n",
    "train_loader = DataLoader(train_dataset, batch_size=32, shuffle=True)\n",
    "test_loader = DataLoader(test_dataset, batch_size=32)\n",
    "\n",
    "num_epochs = 10\n",
    "for epoch in range(num_epochs):\n",
    "    model.train()\n",
    "    total_loss = 0\n",
    "    for batch_texts, batch_labels in train_loader:\n",
    "        optimizer.zero_grad()\n",
    "        predictions = model(batch_texts)\n",
    "        loss = criterion(predictions, batch_labels)\n",
    "        loss.backward()\n",
    "        optimizer.step()\n",
    "        total_loss += loss.item()\n",
    "\n",
    "    # Validation\n",
    "    model.eval()\n",
    "    correct = 0\n",
    "    total = 0\n",
    "    with torch.no_grad():\n",
    "        for batch_texts, batch_labels in test_loader:\n",
    "            predictions = model(batch_texts)\n",
    "            _, predicted = torch.max(predictions, 1)\n",
    "            total += batch_labels.size(0)\n",
    "            correct += (predicted == batch_labels).sum().item()\n",
    "\n",
    "    print(f'Epoch {epoch+1}/{num_epochs}')\n",
    "    print(f'Average Loss: {total_loss/len(train_loader):.4f}')\n",
    "    print(f'Accuracy: {100 * correct / total:.2f}%\\n')"
   ],
   "id": "567900408aa32ac2",
   "outputs": [
    {
     "name": "stdout",
     "output_type": "stream",
     "text": [
      "Epoch 1/10\n",
      "Average Loss: 3.1919\n",
      "Accuracy: 3.12%\n",
      "\n",
      "Epoch 2/10\n",
      "Average Loss: 3.1677\n",
      "Accuracy: 3.65%\n",
      "\n",
      "Epoch 3/10\n",
      "Average Loss: 3.1157\n",
      "Accuracy: 20.83%\n",
      "\n",
      "Epoch 4/10\n",
      "Average Loss: 2.8137\n",
      "Accuracy: 40.10%\n",
      "\n",
      "Epoch 5/10\n",
      "Average Loss: 2.2352\n",
      "Accuracy: 63.54%\n",
      "\n",
      "Epoch 6/10\n",
      "Average Loss: 1.5414\n",
      "Accuracy: 78.12%\n",
      "\n",
      "Epoch 7/10\n",
      "Average Loss: 0.9235\n",
      "Accuracy: 80.73%\n",
      "\n",
      "Epoch 8/10\n",
      "Average Loss: 0.5266\n",
      "Accuracy: 84.90%\n",
      "\n",
      "Epoch 9/10\n",
      "Average Loss: 0.3123\n",
      "Accuracy: 88.02%\n",
      "\n",
      "Epoch 10/10\n",
      "Average Loss: 0.2462\n",
      "Accuracy: 85.94%\n",
      "\n"
     ]
    }
   ],
   "execution_count": 7
  },
  {
   "metadata": {
    "ExecuteTime": {
     "end_time": "2024-12-09T21:24:47.763104Z",
     "start_time": "2024-12-09T21:24:47.730480Z"
    }
   },
   "cell_type": "code",
   "source": [
    "# Function to visualize word relevance\n",
    "def visualize_word_relevance(text, attention_weights, vocab):\n",
    "    words = text.split()\n",
    "    weights = attention_weights.squeeze().numpy()[:len(words)]\n",
    "\n",
    "    # Normalize weights to [0, 1]\n",
    "    weights = (weights - weights.min()) / (weights.max() - weights.min())\n",
    "\n",
    "    # Create HTML with colored words\n",
    "    html = []\n",
    "    for word, weight in zip(words, weights):\n",
    "        color_intensity = int(255 * (1 - weight))\n",
    "        html.append(f'<span style=\"background-color: rgba(255, {color_intensity}, {color_intensity}, 0.5)\">{word}</span>')\n",
    "\n",
    "    return ' '.join(html)\n",
    "\n",
    "# Display examples with highlighted words\n",
    "model.eval()\n",
    "print(\"Examples with word relevance highlighting:\")\n",
    "\n",
    "sample_indices = np.random.choice(len(test_dataset), 10, replace=False)\n",
    "for idx in sample_indices:\n",
    "    text_indices, label = test_dataset[idx]\n",
    "    text = X_test.iloc[idx]\n",
    "\n",
    "    # Get model prediction and attention weights\n",
    "    with torch.no_grad():\n",
    "        prediction = model(text_indices.unsqueeze(0))\n",
    "        attention_weights = model.last_attention_weights\n",
    "\n",
    "    pred_label = label_encoder.inverse_transform([prediction.argmax().item()])[0]\n",
    "    true_label = label_encoder.inverse_transform([label.item()])[0]\n",
    "\n",
    "    print(f\"\\nTrue label: {true_label}\")\n",
    "    print(f\"Predicted label: {pred_label}\")\n",
    "    display(HTML(visualize_word_relevance(text, attention_weights, vocab)))\n"
   ],
   "id": "b1b79623d5d0ecc1",
   "outputs": [
    {
     "name": "stdout",
     "output_type": "stream",
     "text": [
      "Examples with word relevance highlighting:\n",
      "\n",
      "True label: jaundice\n",
      "Predicted label: jaundice\n"
     ]
    },
    {
     "data": {
      "text/plain": [
       "<IPython.core.display.HTML object>"
      ],
      "text/html": [
       "<span style=\"background-color: rgba(255, 255, 255, 0.5)\">baby</span> <span style=\"background-color: rgba(255, 252, 252, 0.5)\">skin</span> <span style=\"background-color: rgba(255, 232, 232, 0.5)\">yellow</span> <span style=\"background-color: rgba(255, 184, 184, 0.5)\">tint</span> <span style=\"background-color: rgba(255, 0, 0, 0.5)\">days</span> <span style=\"background-color: rgba(255, 5, 5, 0.5)\">old</span> <span style=\"background-color: rgba(255, 8, 8, 0.5)\">noticed</span> <span style=\"background-color: rgba(255, 42, 42, 0.5)\">yesterday</span> <span style=\"background-color: rgba(255, 74, 74, 0.5)\">feeding</span> <span style=\"background-color: rgba(255, 99, 99, 0.5)\">okay</span> <span style=\"background-color: rgba(255, 89, 89, 0.5)\">stools</span> <span style=\"background-color: rgba(255, 116, 116, 0.5)\">bit</span> <span style=\"background-color: rgba(255, 131, 131, 0.5)\">unusual</span>"
      ]
     },
     "metadata": {},
     "output_type": "display_data"
    },
    {
     "name": "stdout",
     "output_type": "stream",
     "text": [
      "\n",
      "True label: bronchial asthma\n",
      "Predicted label: bronchial asthma\n"
     ]
    },
    {
     "data": {
      "text/plain": [
       "<IPython.core.display.HTML object>"
      ],
      "text/html": [
       "<span style=\"background-color: rgba(255, 255, 255, 0.5)\">asthma</span> <span style=\"background-color: rgba(255, 238, 238, 0.5)\">attacks</span> <span style=\"background-color: rgba(255, 189, 189, 0.5)\">night</span> <span style=\"background-color: rgba(255, 128, 128, 0.5)\">prevent</span> <span style=\"background-color: rgba(255, 131, 131, 0.5)\">rescue</span> <span style=\"background-color: rgba(255, 93, 93, 0.5)\">inhaler</span> <span style=\"background-color: rgba(255, 149, 149, 0.5)\">schedule</span> <span style=\"background-color: rgba(255, 0, 0, 0.5)\">appointment</span> <span style=\"background-color: rgba(255, 10, 10, 0.5)\">doctor</span>"
      ]
     },
     "metadata": {},
     "output_type": "display_data"
    },
    {
     "name": "stdout",
     "output_type": "stream",
     "text": [
      "\n",
      "True label: dengue\n",
      "Predicted label: dengue\n"
     ]
    },
    {
     "data": {
      "text/plain": [
       "<IPython.core.display.HTML object>"
      ],
      "text/html": [
       "<span style=\"background-color: rgba(255, 254, 254, 0.5)\">fever</span> <span style=\"background-color: rgba(255, 255, 255, 0.5)\">couple</span> <span style=\"background-color: rgba(255, 253, 253, 0.5)\">days</span> <span style=\"background-color: rgba(255, 252, 252, 0.5)\">feel</span> <span style=\"background-color: rgba(255, 253, 253, 0.5)\">weak</span> <span style=\"background-color: rgba(255, 251, 251, 0.5)\">yes</span> <span style=\"background-color: rgba(255, 241, 241, 0.5)\">eyes</span> <span style=\"background-color: rgba(255, 209, 209, 0.5)\">joints</span> <span style=\"background-color: rgba(255, 143, 143, 0.5)\">hurting</span> <span style=\"background-color: rgba(255, 104, 104, 0.5)\">yes</span> <span style=\"background-color: rgba(255, 76, 76, 0.5)\">rash</span> <span style=\"background-color: rgba(255, 0, 0, 0.5)\">nose</span> <span style=\"background-color: rgba(255, 22, 22, 0.5)\">bled</span> <span style=\"background-color: rgba(255, 2, 2, 0.5)\">little</span>"
      ]
     },
     "metadata": {},
     "output_type": "display_data"
    },
    {
     "name": "stdout",
     "output_type": "stream",
     "text": [
      "\n",
      "True label: cervical spondylosis\n",
      "Predicted label: cervical spondylosis\n"
     ]
    },
    {
     "data": {
      "text/plain": [
       "<IPython.core.display.HTML object>"
      ],
      "text/html": [
       "<span style=\"background-color: rgba(255, 255, 255, 0.5)\">heard</span> <span style=\"background-color: rgba(255, 254, 254, 0.5)\">weight</span> <span style=\"background-color: rgba(255, 253, 253, 0.5)\">affect</span> <span style=\"background-color: rgba(255, 227, 227, 0.5)\">cervical</span> <span style=\"background-color: rgba(255, 110, 110, 0.5)\">spondylosis</span> <span style=\"background-color: rgba(255, 0, 0, 0.5)\">concerned</span> <span style=\"background-color: rgba(255, 39, 39, 0.5)\">weight</span> <span style=\"background-color: rgba(255, 45, 45, 0.5)\">trying</span> <span style=\"background-color: rgba(255, 46, 46, 0.5)\">lose</span> <span style=\"background-color: rgba(255, 60, 60, 0.5)\">little</span> <span style=\"background-color: rgba(255, 114, 114, 0.5)\">weight</span> <span style=\"background-color: rgba(255, 37, 37, 0.5)\">working</span>"
      ]
     },
     "metadata": {},
     "output_type": "display_data"
    },
    {
     "name": "stdout",
     "output_type": "stream",
     "text": [
      "\n",
      "True label: pneumonia\n",
      "Predicted label: pneumonia\n"
     ]
    },
    {
     "data": {
      "text/plain": [
       "<IPython.core.display.HTML object>"
      ],
      "text/html": [
       "<span style=\"background-color: rgba(255, 255, 255, 0.5)\">coughing</span> <span style=\"background-color: rgba(255, 254, 254, 0.5)\">thick</span> <span style=\"background-color: rgba(255, 254, 254, 0.5)\">yellow</span> <span style=\"background-color: rgba(255, 254, 254, 0.5)\">mucus</span> <span style=\"background-color: rgba(255, 254, 254, 0.5)\">feel</span> <span style=\"background-color: rgba(255, 252, 252, 0.5)\">tired</span> <span style=\"background-color: rgba(255, 250, 250, 0.5)\">time</span> <span style=\"background-color: rgba(255, 245, 245, 0.5)\">yes</span> <span style=\"background-color: rgba(255, 228, 228, 0.5)\">hard</span> <span style=\"background-color: rgba(255, 132, 132, 0.5)\">breathe</span> <span style=\"background-color: rgba(255, 64, 64, 0.5)\">chest</span> <span style=\"background-color: rgba(255, 8, 8, 0.5)\">hurts</span> <span style=\"background-color: rgba(255, 0, 0, 0.5)\">cough</span>"
      ]
     },
     "metadata": {},
     "output_type": "display_data"
    },
    {
     "name": "stdout",
     "output_type": "stream",
     "text": [
      "\n",
      "True label: cervical spondylosis\n",
      "Predicted label: acne\n"
     ]
    },
    {
     "data": {
      "text/plain": [
       "<IPython.core.display.HTML object>"
      ],
      "text/html": [
       "<span style=\"background-color: rgba(255, 255, 255, 0.5)\">worried</span> <span style=\"background-color: rgba(255, 253, 253, 0.5)\">cervical</span> <span style=\"background-color: rgba(255, 243, 243, 0.5)\">spondylosis</span> <span style=\"background-color: rgba(255, 214, 214, 0.5)\">affect</span> <span style=\"background-color: rgba(255, 210, 210, 0.5)\">ability</span> <span style=\"background-color: rgba(255, 180, 180, 0.5)\">work</span> <span style=\"background-color: rgba(255, 178, 178, 0.5)\">work</span> <span style=\"background-color: rgba(255, 107, 107, 0.5)\">construction</span> <span style=\"background-color: rgba(255, 71, 71, 0.5)\">use</span> <span style=\"background-color: rgba(255, 69, 69, 0.5)\">neck</span> <span style=\"background-color: rgba(255, 3, 3, 0.5)\">lot</span> <span style=\"background-color: rgba(255, 26, 26, 0.5)\">discuss</span> <span style=\"background-color: rgba(255, 0, 0, 0.5)\">employer</span>"
      ]
     },
     "metadata": {},
     "output_type": "display_data"
    },
    {
     "name": "stdout",
     "output_type": "stream",
     "text": [
      "\n",
      "True label: drug reaction\n",
      "Predicted label: drug reaction\n"
     ]
    },
    {
     "data": {
      "text/plain": [
       "<IPython.core.display.HTML object>"
      ],
      "text/html": [
       "<span style=\"background-color: rgba(255, 255, 255, 0.5)\">feeling</span> <span style=\"background-color: rgba(255, 254, 254, 0.5)\">anxious</span> <span style=\"background-color: rgba(255, 253, 253, 0.5)\">jittery</span> <span style=\"background-color: rgba(255, 251, 251, 0.5)\">starting</span> <span style=\"background-color: rgba(255, 219, 219, 0.5)\">new</span> <span style=\"background-color: rgba(255, 64, 64, 0.5)\">medication</span> <span style=\"background-color: rgba(255, 1, 1, 0.5)\">yes</span> <span style=\"background-color: rgba(255, 0, 0, 0.5)\">finding</span> <span style=\"background-color: rgba(255, 34, 34, 0.5)\">hard</span> <span style=\"background-color: rgba(255, 3, 3, 0.5)\">relax</span> <span style=\"background-color: rgba(255, 102, 102, 0.5)\">bring</span>"
      ]
     },
     "metadata": {},
     "output_type": "display_data"
    },
    {
     "name": "stdout",
     "output_type": "stream",
     "text": [
      "\n",
      "True label: psoriasis\n",
      "Predicted label: psoriasis\n"
     ]
    },
    {
     "data": {
      "text/plain": [
       "<IPython.core.display.HTML object>"
      ],
      "text/html": [
       "<span style=\"background-color: rgba(255, 255, 255, 0.5)\">itchy</span> <span style=\"background-color: rgba(255, 243, 243, 0.5)\">patches</span> <span style=\"background-color: rgba(255, 238, 238, 0.5)\">skin</span> <span style=\"background-color: rgba(255, 235, 235, 0.5)\">red</span> <span style=\"background-color: rgba(255, 200, 200, 0.5)\">flaky</span> <span style=\"background-color: rgba(255, 157, 157, 0.5)\">elbows</span> <span style=\"background-color: rgba(255, 123, 123, 0.5)\">knees</span> <span style=\"background-color: rgba(255, 83, 83, 0.5)\">months</span> <span style=\"background-color: rgba(255, 73, 73, 0.5)\">yes</span> <span style=\"background-color: rgba(255, 37, 37, 0.5)\">worse</span> <span style=\"background-color: rgba(255, 0, 0, 0.5)\">yes</span> <span style=\"background-color: rgba(255, 75, 75, 0.5)\">father</span> <span style=\"background-color: rgba(255, 35, 35, 0.5)\">psoriasis</span>"
      ]
     },
     "metadata": {},
     "output_type": "display_data"
    },
    {
     "name": "stdout",
     "output_type": "stream",
     "text": [
      "\n",
      "True label: psoriasis\n",
      "Predicted label: psoriasis\n"
     ]
    },
    {
     "data": {
      "text/plain": [
       "<IPython.core.display.HTML object>"
      ],
      "text/html": [
       "<span style=\"background-color: rgba(255, 254, 254, 0.5)\">noticing</span> <span style=\"background-color: rgba(255, 255, 255, 0.5)\">red</span> <span style=\"background-color: rgba(255, 251, 251, 0.5)\">patches</span> <span style=\"background-color: rgba(255, 251, 251, 0.5)\">skin</span> <span style=\"background-color: rgba(255, 240, 240, 0.5)\">flaky</span> <span style=\"background-color: rgba(255, 226, 226, 0.5)\">elbows</span> <span style=\"background-color: rgba(255, 205, 205, 0.5)\">knees</span> <span style=\"background-color: rgba(255, 154, 154, 0.5)\">itch</span> <span style=\"background-color: rgba(255, 134, 134, 0.5)\">lot</span> <span style=\"background-color: rgba(255, 86, 86, 0.5)\">feel</span> <span style=\"background-color: rgba(255, 85, 85, 0.5)\">sore</span> <span style=\"background-color: rgba(255, 45, 45, 0.5)\">month</span> <span style=\"background-color: rgba(255, 0, 0, 0.5)\">yes</span> <span style=\"background-color: rgba(255, 18, 18, 0.5)\">trigger</span> <span style=\"background-color: rgba(255, 10, 10, 0.5)\">yes</span> <span style=\"background-color: rgba(255, 56, 56, 0.5)\">mother</span> <span style=\"background-color: rgba(255, 33, 33, 0.5)\">psoriasis</span>"
      ]
     },
     "metadata": {},
     "output_type": "display_data"
    },
    {
     "name": "stdout",
     "output_type": "stream",
     "text": [
      "\n",
      "True label: jaundice\n",
      "Predicted label: jaundice\n"
     ]
    },
    {
     "data": {
      "text/plain": [
       "<IPython.core.display.HTML object>"
      ],
      "text/html": [
       "<span style=\"background-color: rgba(255, 255, 255, 0.5)\">eyes</span> <span style=\"background-color: rgba(255, 239, 239, 0.5)\">yellow</span> <span style=\"background-color: rgba(255, 225, 225, 0.5)\">feel</span> <span style=\"background-color: rgba(255, 226, 226, 0.5)\">nauseous</span> <span style=\"background-color: rgba(255, 206, 206, 0.5)\">time</span> <span style=\"background-color: rgba(255, 201, 201, 0.5)\">started</span> <span style=\"background-color: rgba(255, 56, 56, 0.5)\">days</span> <span style=\"background-color: rgba(255, 53, 53, 0.5)\">ago</span> <span style=\"background-color: rgba(255, 57, 57, 0.5)\">urine</span> <span style=\"background-color: rgba(255, 82, 82, 0.5)\">dark</span> <span style=\"background-color: rgba(255, 0, 0, 0.5)\">stools</span> <span style=\"background-color: rgba(255, 58, 58, 0.5)\">light</span> <span style=\"background-color: rgba(255, 64, 64, 0.5)\">colored</span>"
      ]
     },
     "metadata": {},
     "output_type": "display_data"
    }
   ],
   "execution_count": 8
  }
 ],
 "metadata": {
  "kernelspec": {
   "display_name": "Python 3",
   "language": "python",
   "name": "python3"
  },
  "language_info": {
   "codemirror_mode": {
    "name": "ipython",
    "version": 3
   },
   "file_extension": ".py",
   "mimetype": "text/x-python",
   "name": "python",
   "nbconvert_exporter": "python",
   "pygments_lexer": "ipython3",
   "version": "3.8.0"
  }
 },
 "nbformat": 5,
 "nbformat_minor": 4
}
